{
 "cells": [
  {
   "cell_type": "code",
   "execution_count": 1,
   "metadata": {},
   "outputs": [
    {
     "data": {
      "text/plain": [
       "(27, 45)"
      ]
     },
     "execution_count": 1,
     "metadata": {},
     "output_type": "execute_result"
    }
   ],
   "source": [
    "blocks = [3, 4, 5, 6, 9]\n",
    "\n",
    "block_fill = sum(blocks)\n",
    "total_block = max(blocks) * len(blocks)\n",
    "\n",
    "block_fill, total_block"
   ]
  },
  {
   "cell_type": "code",
   "execution_count": 4,
   "metadata": {},
   "outputs": [],
   "source": [
    "n = len(blocks)\n",
    "\n",
    "def blocks_calc(array,n):\n",
    "    result = 0\n",
    "    leftmax = 0\n",
    "    rightmax = 0\n",
    "    l = 0\n",
    "    r = n-1\n",
    "    while l<=r:\n",
    "        if array[l]<array[r]:\n",
    "            if array[l]>leftmax:\n",
    "                leftmax = array[l]\n",
    "            else:\n",
    "                result+=leftmax-array[l]\n",
    "                l+=1\n",
    "        else:\n",
    "            if array[r]>rightmax:\n",
    "                rightmax = array[r]\n",
    "            else:\n",
    "                result+=rightmax-array[r]\n",
    "                r-=1\n",
    "    return result"
   ]
  },
  {
   "cell_type": "code",
   "execution_count": 3,
   "metadata": {},
   "outputs": [],
   "source": [
    "blocks = [3,1,2,0,1,0,1,0,3,0,1,0,2]\n",
    "n = len(blocks)"
   ]
  },
  {
   "cell_type": "code",
   "execution_count": 5,
   "metadata": {},
   "outputs": [
    {
     "data": {
      "text/plain": [
       "21"
      ]
     },
     "execution_count": 5,
     "metadata": {},
     "output_type": "execute_result"
    }
   ],
   "source": [
    "blocks_calc(blocks,n)"
   ]
  },
  {
   "cell_type": "code",
   "execution_count": 17,
   "metadata": {},
   "outputs": [
    {
     "data": {
      "text/plain": [
       "[3, 4, 5, 1, 2]"
      ]
     },
     "execution_count": 17,
     "metadata": {},
     "output_type": "execute_result"
    }
   ],
   "source": [
    "r = 3\n",
    "a = [1,2,3,4,5]\n",
    "\n",
    "a[-r:] + a[:len(a)-r]"
   ]
  },
  {
   "cell_type": "code",
   "execution_count": 18,
   "metadata": {},
   "outputs": [],
   "source": [
    "for _ in range(3):\n",
    "    temp = a.pop(0)\n",
    "    a.append(temp)"
   ]
  },
  {
   "cell_type": "code",
   "execution_count": 35,
   "metadata": {},
   "outputs": [
    {
     "data": {
      "text/plain": [
       "True"
      ]
     },
     "execution_count": 35,
     "metadata": {},
     "output_type": "execute_result"
    }
   ],
   "source": [
    "def canPlaceFlowers(flowerbed = [1,0,0,0,1], n = 1) -> bool:\n",
    "\n",
    "    if flowerbed[:2] == [0, 0]: \n",
    "        flowerbed[0] = 1\n",
    "        a+= 1\n",
    "    if flowerbed[-2:] == [0, 0]: \n",
    "        a+= 1\n",
    "        flowerbed[-1] = 1\n",
    "\n",
    "    for x in range(len(flowerbed) - 2):\n",
    "        if sum(flowerbed[x:x+3]) == 0:\n",
    "            a+=1\n",
    "            flowerbed[x+1] = 1\n",
    "\n",
    "    return a == n\n",
    "\n",
    "canPlaceFlowers()"
   ]
  }
 ],
 "metadata": {
  "kernelspec": {
   "display_name": "AllPackages",
   "language": "python",
   "name": "python3"
  },
  "language_info": {
   "codemirror_mode": {
    "name": "ipython",
    "version": 3
   },
   "file_extension": ".py",
   "mimetype": "text/x-python",
   "name": "python",
   "nbconvert_exporter": "python",
   "pygments_lexer": "ipython3",
   "version": "3.11.9"
  }
 },
 "nbformat": 4,
 "nbformat_minor": 2
}
